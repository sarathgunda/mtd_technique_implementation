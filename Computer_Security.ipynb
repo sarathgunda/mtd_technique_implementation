{
  "cells": [
    {
      "cell_type": "code",
      "execution_count": 3,
      "metadata": {
        "colab": {
          "base_uri": "https://localhost:8080/"
        },
        "id": "DmGRwSd84m3t",
        "outputId": "ca0e4a15-7dd0-45da-8e5c-9aea7fe3a497"
      },
      "outputs": [
        {
          "name": "stdout",
          "output_type": "stream",
          "text": [
            "Original IP address: 192.168.0.100\n",
            "Randomized IP address: 158.77.50.100\n",
            "Changed extension of mnist_test.rnz to .ijs\n",
            "Changed extension of mnist_train_small.ing to .rld\n",
            "Changed extension of california_housing_test.tec to .obt\n",
            "Changed extension of anscombe.tyv to .sft\n",
            "Changed extension of california_housing_train.pue to .cyy\n",
            "Changed extension of README.fye to .oqn\n",
            "New randomized IP address: 6.111.179.182\n",
            "MTD technique applied successfully.\n"
          ]
        }
      ],
      "source": [
        "import os\n",
        "import random\n",
        "import string\n",
        "\n",
        "\n",
        "def generate_random_ip():\n",
        "    ip = \".\".join(str(random.randint(0, 255)) for _ in range(4))\n",
        "    return ip\n",
        "\n",
        "# Function to generate a random file extension\n",
        "def generate_random_extension():\n",
        "    extension = ''.join(random.choices(string.ascii_lowercase, k=3))\n",
        "    return '.' + extension\n",
        "\n",
        "# Simulate the MTD technique by randomizing the IP address and changing file extensions\n",
        "def mtd_technique():\n",
        "    original_ip = \"192.168.0.100\"\n",
        "    print(\"Original IP address:\", original_ip)\n",
        "    randomized_ip = generate_random_ip()\n",
        "    print(\"Randomized IP address:\", randomized_ip)\n",
        "    target_directory = \"/content/sample_data\"\n",
        "    files = os.listdir(target_directory)\n",
        "\n",
        "    # Change file extensions\n",
        "    for file in files:\n",
        "        original_file_path = os.path.join(target_directory, file)\n",
        "      \n",
        "        randomized_extension = generate_random_extension()\n",
        "        new_file_name = os.path.splitext(file)[0] + randomized_extension\n",
        "        new_file_path = os.path.join(target_directory, new_file_name)\n",
        "\n",
        "        try:\n",
        "          \n",
        "            os.rename(original_file_path, new_file_path)\n",
        "            print(f\"Changed extension of {file} to {randomized_extension}\")\n",
        "        except Exception as e:\n",
        "            print(f\"Failed to change extension of {file}. Error: {str(e)}\")\n",
        "\n",
        "    new_randomized_ip = generate_random_ip()\n",
        "    print(\"New randomized IP address:\", new_randomized_ip)\n",
        "    print(\"MTD technique applied successfully.\")\n",
        "\n",
        "# Run the MTD technique simulation\n",
        "mtd_technique()\n"
      ]
    },
    {
      "attachments": {},
      "cell_type": "markdown",
      "metadata": {
        "id": "h7lf2prUQCih"
      },
      "source": [
        "### This Above is just simulation of how mtd will work if we could incorporate the behaviour based anamoly detection using machine learning along with MTD this will provide a solution for prevention of ransomware since we dont have a dataset regarding ransomware attack we are unable to build the model The technique is to create a Baseline model with Normal system parameters and cheks with the new system parameters to find the Any ransomware Activity "
      ]
    }
  ],
  "metadata": {
    "colab": {
      "provenance": []
    },
    "kernelspec": {
      "display_name": "Python 3",
      "name": "python3"
    },
    "language_info": {
      "name": "python"
    }
  },
  "nbformat": 4,
  "nbformat_minor": 0
}
